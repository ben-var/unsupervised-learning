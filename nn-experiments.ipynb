{
 "cells": [
  {
   "cell_type": "code",
   "execution_count": 1,
   "metadata": {},
   "outputs": [],
   "source": [
    "import numpy as np\n",
    "import pandas as pd\n",
    "\n",
    "import matplotlib.pyplot as plt\n",
    "\n",
    "from sklearn.ensemble import RandomForestClassifier\n",
    "from sklearn.model_selection import cross_val_score, train_test_split, learning_curve\n",
    "from sklearn.metrics import classification_report, confusion_matrix, accuracy_score\n",
    "from sklearn.neural_network import MLPClassifier\n",
    "from sklearn.cluster import KMeans\n",
    "from sklearn.mixture import GaussianMixture as GMM\n",
    "from sklearn.model_selection import learning_curve\n",
    "from sklearn.metrics import silhouette_samples, silhouette_score, homogeneity_score\n",
    "from sklearn.manifold import TSNE\n",
    "from sklearn import datasets\n",
    "from sklearn.decomposition import PCA\n",
    "from sklearn.decomposition import FastICA\n",
    "from sklearn.compose import ColumnTransformer\n",
    "from sklearn.random_projection import SparseRandomProjection"
   ]
  },
  {
   "cell_type": "code",
   "execution_count": 2,
   "metadata": {},
   "outputs": [],
   "source": [
    "bank_dataset = pd.read_csv('data/bank.csv', sep= ',', header=0)\n",
    "bank_headers = list(bank_dataset)[:-1]\n",
    "X = bank_dataset.values[:,:-1]\n",
    "y = bank_dataset.values[:,-1]\n",
    "seed = 0\n",
    "\n",
    "pca_X = PCA(n_components=4, random_state=seed).fit_transform(X)\n",
    "ica_X = FastICA(n_components=5, random_state=seed, max_iter=10000).fit_transform(X)\n",
    "rp_X = SparseRandomProjection(n_components=13, random_state=seed).fit_transform(X)\n",
    "\n",
    "rfc = RandomForestClassifier(n_estimators=100,class_weight='balanced',random_state=seed)\n",
    "fs_bank = rfc.fit(X,y).feature_importances_ \n",
    "rf_X = X[:, fs_bank >= np.mean(fs_bank)]"
   ]
  },
  {
   "cell_type": "markdown",
   "metadata": {},
   "source": [
    "# Baseline Test from A1"
   ]
  },
  {
   "cell_type": "code",
   "execution_count": 4,
   "metadata": {
    "scrolled": true
   },
   "outputs": [
    {
     "name": "stdout",
     "output_type": "stream",
     "text": [
      "Wall time: 2.33 s\n",
      "Baseline Test from Assignment 1\n",
      "Confusion Matrix:\n",
      "[[3593   44]\n",
      " [ 389   93]]\n",
      "              precision    recall  f1-score   support\n",
      "\n",
      "         0.0       0.90      0.99      0.94      3637\n",
      "         1.0       0.68      0.19      0.30       482\n",
      "\n",
      "   micro avg       0.89      0.89      0.89      4119\n",
      "   macro avg       0.79      0.59      0.62      4119\n",
      "weighted avg       0.88      0.89      0.87      4119\n",
      "\n",
      "Accuracy   : 89.48773974265598\n",
      "Train Score:  0.8985945129353368\n",
      "CV Score   :  [0.88783685 0.88782778 0.88782778]\n",
      "Test Score :  0.8948773974265598\n"
     ]
    }
   ],
   "source": [
    "X_train, X_test, y_train, y_test = train_test_split(X, y, test_size=0.10) \n",
    "\n",
    "clf =  MLPClassifier(hidden_layer_sizes=(15, 2), max_iter=10000)\n",
    "%time clf.fit(X_train, y_train)\n",
    "y_pred = clf.predict(X_test)\n",
    "\n",
    "print (\"Baseline Test from Assignment 1\")\n",
    "print(\"Confusion Matrix:\")\n",
    "print(confusion_matrix(y_test, y_pred))\n",
    "print(classification_report(y_test, y_pred))\n",
    "\n",
    "print(\"Accuracy   :\", accuracy_score(y_test, y_pred) * 100)\n",
    "print(\"Train Score: \", clf.score(X_train, y_train))\n",
    "print(\"CV Score   : \", cross_val_score(clf, X_train, y_train, cv=3))\n",
    "print(\"Test Score : \", clf.score(X_test, y_test))"
   ]
  },
  {
   "cell_type": "markdown",
   "metadata": {},
   "source": [
    "# Training NN on Reduced Datasets"
   ]
  },
  {
   "cell_type": "markdown",
   "metadata": {},
   "source": [
    "## PCA"
   ]
  },
  {
   "cell_type": "code",
   "execution_count": 8,
   "metadata": {},
   "outputs": [
    {
     "name": "stdout",
     "output_type": "stream",
     "text": [
      "Wall time: 1.3 s\n",
      "Confusion Matrix:\n",
      "[[3606   52]\n",
      " [ 365   96]]\n",
      "              precision    recall  f1-score   support\n",
      "\n",
      "         0.0       0.91      0.99      0.95      3658\n",
      "         1.0       0.65      0.21      0.32       461\n",
      "\n",
      "   micro avg       0.90      0.90      0.90      4119\n",
      "   macro avg       0.78      0.60      0.63      4119\n",
      "weighted avg       0.88      0.90      0.87      4119\n",
      "\n",
      "Accuracy   : 89.8761835396941\n",
      "Train Score:  0.8984326526207883\n",
      "CV Score   :  [0.89471555 0.90004856 0.88726125]\n",
      "Test Score :  0.898761835396941\n"
     ]
    }
   ],
   "source": [
    "X_train, X_test, y_train, y_test = train_test_split(pca_X, y, test_size=0.10) \n",
    "\n",
    "clf =  MLPClassifier(hidden_layer_sizes=(15, 2), max_iter=10000)\n",
    "%time clf.fit(X_train, y_train)\n",
    "y_pred = clf.predict(X_test)\n",
    "\n",
    "print(\"Confusion Matrix:\")\n",
    "print(confusion_matrix(y_test, y_pred))\n",
    "print(classification_report(y_test, y_pred))\n",
    "\n",
    "print(\"Accuracy   :\", accuracy_score(y_test, y_pred) * 100)\n",
    "print(\"Train Score: \", clf.score(X_train, y_train))\n",
    "print(\"CV Score   : \", cross_val_score(clf, X_train, y_train, cv=3))\n",
    "print(\"Test Score : \", clf.score(X_test, y_test))"
   ]
  },
  {
   "cell_type": "markdown",
   "metadata": {},
   "source": [
    "## ICA"
   ]
  },
  {
   "cell_type": "code",
   "execution_count": 10,
   "metadata": {},
   "outputs": [
    {
     "name": "stdout",
     "output_type": "stream",
     "text": [
      "Wall time: 1.91 s\n",
      "Confusion Matrix:\n",
      "[[3590   48]\n",
      " [ 384   97]]\n",
      "              precision    recall  f1-score   support\n",
      "\n",
      "         0.0       0.90      0.99      0.94      3638\n",
      "         1.0       0.67      0.20      0.31       481\n",
      "\n",
      "   micro avg       0.90      0.90      0.90      4119\n",
      "   macro avg       0.79      0.59      0.63      4119\n",
      "weighted avg       0.88      0.90      0.87      4119\n",
      "\n",
      "Accuracy   : 89.51201747997086\n",
      "Train Score:  0.8983786991826054\n",
      "CV Score   :  [0.89892369 0.89818712 0.88782778]\n",
      "Test Score :  0.8951201747997086\n"
     ]
    }
   ],
   "source": [
    "X_train, X_test, y_train, y_test = train_test_split(ica_X, y, test_size=0.10) \n",
    "\n",
    "clf =  MLPClassifier(hidden_layer_sizes=(15, 2), max_iter=10000)\n",
    "%time clf.fit(X_train, y_train)\n",
    "y_pred = clf.predict(X_test)\n",
    "\n",
    "print(\"Confusion Matrix:\")\n",
    "print(confusion_matrix(y_test, y_pred))\n",
    "print(classification_report(y_test, y_pred))\n",
    "\n",
    "print(\"Accuracy   :\", accuracy_score(y_test, y_pred) * 100)\n",
    "print(\"Train Score: \", clf.score(X_train, y_train))\n",
    "print(\"CV Score   : \", cross_val_score(clf, X_train, y_train, cv=3))\n",
    "print(\"Test Score : \", clf.score(X_test, y_test))"
   ]
  },
  {
   "cell_type": "markdown",
   "metadata": {},
   "source": [
    "## Random Projection"
   ]
  },
  {
   "cell_type": "code",
   "execution_count": 14,
   "metadata": {},
   "outputs": [
    {
     "name": "stdout",
     "output_type": "stream",
     "text": [
      "Wall time: 1.31 s\n",
      "Confusion Matrix:\n",
      "[[3626   31]\n",
      " [ 405   57]]\n",
      "              precision    recall  f1-score   support\n",
      "\n",
      "         0.0       0.90      0.99      0.94      3657\n",
      "         1.0       0.65      0.12      0.21       462\n",
      "\n",
      "   micro avg       0.89      0.89      0.89      4119\n",
      "   macro avg       0.77      0.56      0.58      4119\n",
      "weighted avg       0.87      0.89      0.86      4119\n",
      "\n",
      "Accuracy   : 89.41490653071133\n",
      "Train Score:  0.8941433542852518\n",
      "CV Score   :  [0.88727037 0.88727037 0.88733306]\n",
      "Test Score :  0.8941490653071134\n"
     ]
    }
   ],
   "source": [
    "X_train, X_test, y_train, y_test = train_test_split(rp_X, y, test_size=0.10) \n",
    "\n",
    "clf =  MLPClassifier(hidden_layer_sizes=(15, 2), max_iter=10000)\n",
    "%time clf.fit(X_train, y_train)\n",
    "y_pred = clf.predict(X_test)\n",
    "\n",
    "print(\"Confusion Matrix:\")\n",
    "print(confusion_matrix(y_test, y_pred))\n",
    "print(classification_report(y_test, y_pred))\n",
    "\n",
    "print(\"Accuracy   :\", accuracy_score(y_test, y_pred) * 100)\n",
    "print(\"Train Score: \", clf.score(X_train, y_train))\n",
    "print(\"CV Score   : \", cross_val_score(clf, X_train, y_train, cv=3))\n",
    "print(\"Test Score : \", clf.score(X_test, y_test))"
   ]
  },
  {
   "cell_type": "markdown",
   "metadata": {},
   "source": [
    "## Random Forest Dimensionality Reduction"
   ]
  },
  {
   "cell_type": "code",
   "execution_count": 17,
   "metadata": {
    "scrolled": false
   },
   "outputs": [
    {
     "name": "stdout",
     "output_type": "stream",
     "text": [
      "Wall time: 2.05 s\n",
      "Confusion Matrix:\n",
      "[[3661    0]\n",
      " [ 458    0]]\n",
      "              precision    recall  f1-score   support\n",
      "\n",
      "         0.0       0.89      1.00      0.94      3661\n",
      "         1.0       0.00      0.00      0.00       458\n",
      "\n",
      "   micro avg       0.89      0.89      0.89      4119\n",
      "   macro avg       0.44      0.50      0.47      4119\n",
      "weighted avg       0.79      0.89      0.84      4119\n",
      "\n",
      "Accuracy   : 88.88079630978393\n",
      "Train Score:  0.8871833607596644\n"
     ]
    },
    {
     "name": "stderr",
     "output_type": "stream",
     "text": [
      "C:\\Users\\Benny\\Miniconda3\\lib\\site-packages\\sklearn\\metrics\\classification.py:1143: UndefinedMetricWarning: Precision and F-score are ill-defined and being set to 0.0 in labels with no predicted samples.\n",
      "  'precision', 'predicted', average, warn_for)\n"
     ]
    },
    {
     "name": "stdout",
     "output_type": "stream",
     "text": [
      "CV Score   :  [0.8871207  0.8871207  0.88722515 0.88722515 0.88722515]\n",
      "Test Score :  0.8888079630978393\n"
     ]
    }
   ],
   "source": [
    "X_train, X_test, y_train, y_test = train_test_split(rf_X, y, test_size=0.10) \n",
    "\n",
    "clf =  MLPClassifier(hidden_layer_sizes=(15, 2), max_iter=10000)\n",
    "%time clf.fit(X_train, y_train)\n",
    "y_pred = clf.predict(X_test)\n",
    "\n",
    "print(\"Confusion Matrix:\")\n",
    "print(confusion_matrix(y_test, y_pred))\n",
    "print(classification_report(y_test, y_pred))\n",
    "\n",
    "print(\"Accuracy   :\", accuracy_score(y_test, y_pred) * 100)\n",
    "print(\"Train Score: \", clf.score(X_train, y_train))\n",
    "print(\"CV Score   : \", cross_val_score(clf, X_train, y_train, cv=5))\n",
    "print(\"Test Score : \", clf.score(X_test, y_test))"
   ]
  },
  {
   "cell_type": "markdown",
   "metadata": {},
   "source": [
    "# Using Clusters as Features"
   ]
  },
  {
   "cell_type": "markdown",
   "metadata": {},
   "source": [
    "## Training NN with KMeans results on PCA"
   ]
  },
  {
   "cell_type": "code",
   "execution_count": 21,
   "metadata": {
    "scrolled": false
   },
   "outputs": [
    {
     "name": "stdout",
     "output_type": "stream",
     "text": [
      "Confusion Matrix:\n",
      "[[3601   60]\n",
      " [ 369   89]]\n",
      "              precision    recall  f1-score   support\n",
      "\n",
      "         0.0       0.91      0.98      0.94      3661\n",
      "         1.0       0.60      0.19      0.29       458\n",
      "\n",
      "   micro avg       0.90      0.90      0.90      4119\n",
      "   macro avg       0.75      0.59      0.62      4119\n",
      "weighted avg       0.87      0.90      0.87      4119\n",
      "\n",
      "Accuracy   : 89.58485069191552\n",
      "Train Score:  0.8977042812053198\n",
      "CV Score   :  [0.88718945 0.88718032 0.89923924]\n",
      "Test Score :  0.8958485069191552\n"
     ]
    }
   ],
   "source": [
    "km = KMeans(n_clusters = 4, random_state=seed)\n",
    "em = GMM(n_components = 5, random_state=seed)\n",
    "\n",
    "pca_km_clusters = km.fit_predict(pca_X).reshape(-1,1)\n",
    "pca_em_clusters = em.fit_predict(pca_X).reshape(-1,1)\n",
    "\n",
    "X_train, X_test, y_train, y_test = train_test_split(pca_km_clusters, y, test_size=0.10) \n",
    "\n",
    "clf =  MLPClassifier(hidden_layer_sizes=(15, 2), max_iter=10000)\n",
    "clf.fit(X_train, y_train)\n",
    "y_pred = clf.predict(X_test)\n",
    "\n",
    "print(\"Confusion Matrix:\")\n",
    "print(confusion_matrix(y_test, y_pred))\n",
    "print(classification_report(y_test, y_pred))\n",
    "\n",
    "print(\"Accuracy   :\", accuracy_score(y_test, y_pred) * 100)\n",
    "print(\"Train Score: \", clf.score(X_train, y_train))\n",
    "print(\"CV Score   : \", cross_val_score(clf, X_train, y_train, cv=3))\n",
    "print(\"Test Score : \", clf.score(X_test, y_test))"
   ]
  },
  {
   "cell_type": "markdown",
   "metadata": {},
   "source": [
    "## Training NN with EM results on PCA"
   ]
  },
  {
   "cell_type": "code",
   "execution_count": 23,
   "metadata": {
    "scrolled": true
   },
   "outputs": [
    {
     "name": "stdout",
     "output_type": "stream",
     "text": [
      "Confusion Matrix:\n",
      "[[3596   45]\n",
      " [ 388   90]]\n",
      "              precision    recall  f1-score   support\n",
      "\n",
      "         0.0       0.90      0.99      0.94      3641\n",
      "         1.0       0.67      0.19      0.29       478\n",
      "\n",
      "   micro avg       0.89      0.89      0.89      4119\n",
      "   macro avg       0.78      0.59      0.62      4119\n",
      "weighted avg       0.88      0.89      0.87      4119\n",
      "\n",
      "Accuracy   : 89.48773974265598\n",
      "Train Score:  0.8978121880816855\n",
      "CV Score   :  [0.89714332 0.88774684 0.88774684]\n",
      "Test Score :  0.8948773974265598\n"
     ]
    }
   ],
   "source": [
    "X_train, X_test, y_train, y_test = train_test_split(pca_em_clusters, y, test_size=0.10) \n",
    "\n",
    "clf =  MLPClassifier(hidden_layer_sizes=(15, 2), max_iter=10000)\n",
    "clf.fit(X_train, y_train)\n",
    "y_pred = clf.predict(X_test)\n",
    "\n",
    "print(\"Confusion Matrix:\")\n",
    "print(confusion_matrix(y_test, y_pred))\n",
    "print(classification_report(y_test, y_pred))\n",
    "\n",
    "print(\"Accuracy   :\", accuracy_score(y_test, y_pred) * 100)\n",
    "print(\"Train Score: \", clf.score(X_train, y_train))\n",
    "print(\"CV Score   : \", cross_val_score(clf, X_train, y_train, cv=3))\n",
    "print(\"Test Score : \", clf.score(X_test, y_test))"
   ]
  },
  {
   "cell_type": "markdown",
   "metadata": {},
   "source": [
    "## Training NN with PCA Data + KMeans results on PCA"
   ]
  },
  {
   "cell_type": "code",
   "execution_count": 26,
   "metadata": {},
   "outputs": [
    {
     "name": "stdout",
     "output_type": "stream",
     "text": [
      "Confusion Matrix:\n",
      "[[3551   65]\n",
      " [ 450   53]]\n",
      "              precision    recall  f1-score   support\n",
      "\n",
      "         0.0       0.89      0.98      0.93      3616\n",
      "         1.0       0.45      0.11      0.17       503\n",
      "\n",
      "   micro avg       0.87      0.87      0.87      4119\n",
      "   macro avg       0.67      0.54      0.55      4119\n",
      "weighted avg       0.83      0.87      0.84      4119\n",
      "\n",
      "Accuracy   : 87.49696528283563\n",
      "Train Score:  0.8826512719523052\n",
      "CV Score   :  [0.88840333 0.89842991 0.90012949]\n",
      "Test Score :  0.8749696528283564\n"
     ]
    }
   ],
   "source": [
    "X_train, X_test, y_train, y_test = train_test_split(np.hstack((pca_X, pca_km_clusters)), y, test_size=0.10) \n",
    "\n",
    "clf =  MLPClassifier(hidden_layer_sizes=(15, 2), max_iter=10000)\n",
    "clf.fit(X_train, y_train)\n",
    "y_pred = clf.predict(X_test)\n",
    "\n",
    "print(\"Confusion Matrix:\")\n",
    "print(confusion_matrix(y_test, y_pred))\n",
    "print(classification_report(y_test, y_pred))\n",
    "\n",
    "print(\"Accuracy   :\", accuracy_score(y_test, y_pred) * 100)\n",
    "print(\"Train Score: \", clf.score(X_train, y_train))\n",
    "print(\"CV Score   : \", cross_val_score(clf, X_train, y_train, cv=3))\n",
    "print(\"Test Score : \", clf.score(X_test, y_test))"
   ]
  },
  {
   "cell_type": "markdown",
   "metadata": {},
   "source": [
    "## Training NN with PCA Data + EM results on PCA"
   ]
  },
  {
   "cell_type": "code",
   "execution_count": 27,
   "metadata": {},
   "outputs": [
    {
     "name": "stdout",
     "output_type": "stream",
     "text": [
      "Confusion Matrix:\n",
      "[[3596   44]\n",
      " [ 380   99]]\n",
      "              precision    recall  f1-score   support\n",
      "\n",
      "         0.0       0.90      0.99      0.94      3640\n",
      "         1.0       0.69      0.21      0.32       479\n",
      "\n",
      "   micro avg       0.90      0.90      0.90      4119\n",
      "   macro avg       0.80      0.60      0.63      4119\n",
      "weighted avg       0.88      0.90      0.87      4119\n",
      "\n",
      "Accuracy   : 89.70623937848993\n",
      "Train Score:  0.8993498610698967\n",
      "CV Score   :  [0.89876184 0.88774684 0.88750405]\n",
      "Test Score :  0.8970623937848993\n"
     ]
    }
   ],
   "source": [
    "X_train, X_test, y_train, y_test = train_test_split(np.hstack((pca_X, pca_em_clusters)), y, test_size=0.10) \n",
    "\n",
    "clf =  MLPClassifier(hidden_layer_sizes=(15, 2), max_iter=10000)\n",
    "clf.fit(X_train, y_train)\n",
    "y_pred = clf.predict(X_test)\n",
    "\n",
    "print(\"Confusion Matrix:\")\n",
    "print(confusion_matrix(y_test, y_pred))\n",
    "print(classification_report(y_test, y_pred))\n",
    "\n",
    "print(\"Accuracy   :\", accuracy_score(y_test, y_pred) * 100)\n",
    "print(\"Train Score: \", clf.score(X_train, y_train))\n",
    "print(\"CV Score   : \", cross_val_score(clf, X_train, y_train, cv=3))\n",
    "print(\"Test Score : \", clf.score(X_test, y_test))"
   ]
  },
  {
   "cell_type": "markdown",
   "metadata": {},
   "source": [
    "## Training NN with KMeans results on ICA"
   ]
  },
  {
   "cell_type": "code",
   "execution_count": 28,
   "metadata": {},
   "outputs": [
    {
     "name": "stdout",
     "output_type": "stream",
     "text": [
      "Confusion Matrix:\n",
      "[[3623   52]\n",
      " [ 345   99]]\n",
      "              precision    recall  f1-score   support\n",
      "\n",
      "         0.0       0.91      0.99      0.95      3675\n",
      "         1.0       0.66      0.22      0.33       444\n",
      "\n",
      "   micro avg       0.90      0.90      0.90      4119\n",
      "   macro avg       0.78      0.60      0.64      4119\n",
      "weighted avg       0.89      0.90      0.88      4119\n",
      "\n",
      "Accuracy   : 90.36173828599175\n",
      "Train Score:  0.8968410261943942\n",
      "CV Score   :  [0.88678482 0.89592943 0.88684743]\n",
      "Test Score :  0.9036173828599174\n"
     ]
    }
   ],
   "source": [
    "km = KMeans(n_clusters = 5, random_state=seed)\n",
    "em = GMM(n_components = 4, random_state=seed)\n",
    "\n",
    "ica_km_clusters = km.fit_predict(ica_X).reshape(-1,1)\n",
    "ica_em_clusters = em.fit_predict(ica_X).reshape(-1,1)\n",
    "\n",
    "X_train, X_test, y_train, y_test = train_test_split(ica_km_clusters, y, test_size=0.10) \n",
    "\n",
    "clf =  MLPClassifier(hidden_layer_sizes=(15, 2), max_iter=10000)\n",
    "clf.fit(X_train, y_train)\n",
    "y_pred = clf.predict(X_test)\n",
    "\n",
    "print(\"Confusion Matrix:\")\n",
    "print(confusion_matrix(y_test, y_pred))\n",
    "print(classification_report(y_test, y_pred))\n",
    "\n",
    "print(\"Accuracy   :\", accuracy_score(y_test, y_pred) * 100)\n",
    "print(\"Train Score: \", clf.score(X_train, y_train))\n",
    "print(\"CV Score   : \", cross_val_score(clf, X_train, y_train, cv=3))\n",
    "print(\"Test Score : \", clf.score(X_test, y_test))"
   ]
  },
  {
   "cell_type": "markdown",
   "metadata": {},
   "source": [
    "## Training NN with EM results on ICA"
   ]
  },
  {
   "cell_type": "code",
   "execution_count": 30,
   "metadata": {
    "scrolled": false
   },
   "outputs": [
    {
     "name": "stdout",
     "output_type": "stream",
     "text": [
      "Confusion Matrix:\n",
      "[[3595   58]\n",
      " [ 370   96]]\n",
      "              precision    recall  f1-score   support\n",
      "\n",
      "         0.0       0.91      0.98      0.94      3653\n",
      "         1.0       0.62      0.21      0.31       466\n",
      "\n",
      "   micro avg       0.90      0.90      0.90      4119\n",
      "   macro avg       0.77      0.60      0.63      4119\n",
      "weighted avg       0.87      0.90      0.87      4119\n",
      "\n",
      "Accuracy   : 89.6091284292304\n",
      "Train Score:  0.8976773044862284\n",
      "CV Score   :  [0.88737524 0.88737524 0.89816563 0.89830051 0.89531903]\n",
      "Test Score :  0.896091284292304\n"
     ]
    }
   ],
   "source": [
    "X_train, X_test, y_train, y_test = train_test_split(ica_em_clusters, y, test_size=0.10) \n",
    "\n",
    "clf =  MLPClassifier(hidden_layer_sizes=(15, 2), max_iter=10000)\n",
    "clf.fit(X_train, y_train)\n",
    "y_pred = clf.predict(X_test)\n",
    "\n",
    "print(\"Confusion Matrix:\")\n",
    "print(confusion_matrix(y_test, y_pred))\n",
    "print(classification_report(y_test, y_pred))\n",
    "\n",
    "print(\"Accuracy   :\", accuracy_score(y_test, y_pred) * 100)\n",
    "print(\"Train Score: \", clf.score(X_train, y_train))\n",
    "print(\"CV Score   : \", cross_val_score(clf, X_train, y_train, cv=5))\n",
    "print(\"Test Score : \", clf.score(X_test, y_test))"
   ]
  },
  {
   "cell_type": "markdown",
   "metadata": {},
   "source": [
    "## Training NN with ICA Data + KMeans results on ICA"
   ]
  },
  {
   "cell_type": "code",
   "execution_count": 31,
   "metadata": {},
   "outputs": [
    {
     "name": "stdout",
     "output_type": "stream",
     "text": [
      "Confusion Matrix:\n",
      "[[3617   34]\n",
      " [ 387   81]]\n",
      "              precision    recall  f1-score   support\n",
      "\n",
      "         0.0       0.90      0.99      0.95      3651\n",
      "         1.0       0.70      0.17      0.28       468\n",
      "\n",
      "   micro avg       0.90      0.90      0.90      4119\n",
      "   macro avg       0.80      0.58      0.61      4119\n",
      "weighted avg       0.88      0.90      0.87      4119\n",
      "\n",
      "Accuracy   : 89.77907259043457\n",
      "Train Score:  0.8991880007553481\n",
      "CV Score   :  [0.89762887 0.88743222 0.90076892]\n",
      "Test Score :  0.8977907259043457\n"
     ]
    }
   ],
   "source": [
    "X_train, X_test, y_train, y_test = train_test_split(np.hstack((ica_X, ica_km_clusters)), y, test_size=0.10) \n",
    "\n",
    "clf =  MLPClassifier(hidden_layer_sizes=(15, 2), max_iter=10000)\n",
    "clf.fit(X_train, y_train)\n",
    "y_pred = clf.predict(X_test)\n",
    "\n",
    "print(\"Confusion Matrix:\")\n",
    "print(confusion_matrix(y_test, y_pred))\n",
    "print(classification_report(y_test, y_pred))\n",
    "\n",
    "print(\"Accuracy   :\", accuracy_score(y_test, y_pred) * 100)\n",
    "print(\"Train Score: \", clf.score(X_train, y_train))\n",
    "print(\"CV Score   : \", cross_val_score(clf, X_train, y_train, cv=3))\n",
    "print(\"Test Score : \", clf.score(X_test, y_test))"
   ]
  },
  {
   "cell_type": "markdown",
   "metadata": {},
   "source": [
    "## Training NN with ICA Data + EM results on ICA"
   ]
  },
  {
   "cell_type": "code",
   "execution_count": 33,
   "metadata": {
    "scrolled": true
   },
   "outputs": [
    {
     "name": "stdout",
     "output_type": "stream",
     "text": [
      "Confusion Matrix:\n",
      "[[3613   43]\n",
      " [ 367   96]]\n",
      "              precision    recall  f1-score   support\n",
      "\n",
      "         0.0       0.91      0.99      0.95      3656\n",
      "         1.0       0.69      0.21      0.32       463\n",
      "\n",
      "   micro avg       0.90      0.90      0.90      4119\n",
      "   macro avg       0.80      0.60      0.63      4119\n",
      "weighted avg       0.88      0.90      0.88      4119\n",
      "\n",
      "Accuracy   : 90.04612770089827\n",
      "Train Score:  0.8992959076317139\n",
      "CV Score   :  [0.88727037 0.89721593 0.88734218]\n",
      "Test Score :  0.9004612770089827\n"
     ]
    }
   ],
   "source": [
    "X_train, X_test, y_train, y_test = train_test_split(np.hstack((ica_X, ica_em_clusters)), y, test_size=0.10) \n",
    "\n",
    "clf =  MLPClassifier(hidden_layer_sizes=(15, 2), max_iter=10000)\n",
    "clf.fit(X_train, y_train)\n",
    "y_pred = clf.predict(X_test)\n",
    "\n",
    "print(\"Confusion Matrix:\")\n",
    "print(confusion_matrix(y_test, y_pred))\n",
    "print(classification_report(y_test, y_pred))\n",
    "\n",
    "print(\"Accuracy   :\", accuracy_score(y_test, y_pred) * 100)\n",
    "print(\"Train Score: \", clf.score(X_train, y_train))\n",
    "print(\"CV Score   : \", cross_val_score(clf, X_train, y_train, cv=3))\n",
    "print(\"Test Score : \", clf.score(X_test, y_test))"
   ]
  },
  {
   "cell_type": "markdown",
   "metadata": {},
   "source": [
    "## Training NN with KMeans results on RP"
   ]
  },
  {
   "cell_type": "code",
   "execution_count": 35,
   "metadata": {
    "scrolled": true
   },
   "outputs": [
    {
     "name": "stdout",
     "output_type": "stream",
     "text": [
      "Confusion Matrix:\n",
      "[[3571   52]\n",
      " [ 388  108]]\n",
      "              precision    recall  f1-score   support\n",
      "\n",
      "         0.0       0.90      0.99      0.94      3623\n",
      "         1.0       0.68      0.22      0.33       496\n",
      "\n",
      "   micro avg       0.89      0.89      0.89      4119\n",
      "   macro avg       0.79      0.60      0.64      4119\n",
      "weighted avg       0.87      0.89      0.87      4119\n",
      "\n",
      "Accuracy   : 89.3177955814518\n",
      "Train Score:  0.8980010251153254\n",
      "CV Score   :  [0.88816056 0.89721593 0.88823244]\n",
      "Test Score :  0.8931779558145181\n"
     ]
    }
   ],
   "source": [
    "km = KMeans(n_clusters = 4, random_state=seed)\n",
    "em = GMM(n_components = 5, random_state=seed)\n",
    "\n",
    "rp_km_clusters = km.fit_predict(rp_X).reshape(-1,1)\n",
    "rp_em_clusters = em.fit_predict(rp_X).reshape(-1,1)\n",
    "\n",
    "X_train, X_test, y_train, y_test = train_test_split(rp_km_clusters, y, test_size=0.10) \n",
    "\n",
    "clf =  MLPClassifier(hidden_layer_sizes=(15, 2), max_iter=10000)\n",
    "clf.fit(X_train, y_train)\n",
    "y_pred = clf.predict(X_test)\n",
    "\n",
    "print(\"Confusion Matrix:\")\n",
    "print(confusion_matrix(y_test, y_pred))\n",
    "print(classification_report(y_test, y_pred))\n",
    "\n",
    "print(\"Accuracy   :\", accuracy_score(y_test, y_pred) * 100)\n",
    "print(\"Train Score: \", clf.score(X_train, y_train))\n",
    "print(\"CV Score   : \", cross_val_score(clf, X_train, y_train, cv=3))\n",
    "print(\"Test Score : \", clf.score(X_test, y_test))"
   ]
  },
  {
   "cell_type": "markdown",
   "metadata": {},
   "source": [
    "## Training NN with EM results on RP"
   ]
  },
  {
   "cell_type": "code",
   "execution_count": 37,
   "metadata": {},
   "outputs": [
    {
     "name": "stdout",
     "output_type": "stream",
     "text": [
      "Confusion Matrix:\n",
      "[[3617   68]\n",
      " [ 357   77]]\n",
      "              precision    recall  f1-score   support\n",
      "\n",
      "         0.0       0.91      0.98      0.94      3685\n",
      "         1.0       0.53      0.18      0.27       434\n",
      "\n",
      "   micro avg       0.90      0.90      0.90      4119\n",
      "   macro avg       0.72      0.58      0.61      4119\n",
      "weighted avg       0.87      0.90      0.87      4119\n",
      "\n",
      "Accuracy   : 89.68196164117505\n",
      "Train Score:  0.8975963743289541\n",
      "CV Score   :  [0.88654204 0.88653286 0.88653286]\n",
      "Test Score :  0.8968196164117505\n"
     ]
    }
   ],
   "source": [
    "X_train, X_test, y_train, y_test = train_test_split(rp_em_clusters, y, test_size=0.10) \n",
    "\n",
    "clf =  MLPClassifier(hidden_layer_sizes=(15, 2), max_iter=10000)\n",
    "clf.fit(X_train, y_train)\n",
    "y_pred = clf.predict(X_test)\n",
    "\n",
    "print(\"Confusion Matrix:\")\n",
    "print(confusion_matrix(y_test, y_pred))\n",
    "print(classification_report(y_test, y_pred))\n",
    "\n",
    "print(\"Accuracy   :\", accuracy_score(y_test, y_pred) * 100)\n",
    "print(\"Train Score: \", clf.score(X_train, y_train))\n",
    "print(\"CV Score   : \", cross_val_score(clf, X_train, y_train, cv=3))\n",
    "print(\"Test Score : \", clf.score(X_test, y_test))"
   ]
  },
  {
   "cell_type": "markdown",
   "metadata": {},
   "source": [
    "## Training NN with RP Data + KMeans results on RP"
   ]
  },
  {
   "cell_type": "code",
   "execution_count": 40,
   "metadata": {},
   "outputs": [
    {
     "name": "stdout",
     "output_type": "stream",
     "text": [
      "Confusion Matrix:\n",
      "[[3621   35]\n",
      " [ 389   74]]\n",
      "              precision    recall  f1-score   support\n",
      "\n",
      "         0.0       0.90      0.99      0.94      3656\n",
      "         1.0       0.68      0.16      0.26       463\n",
      "\n",
      "   micro avg       0.90      0.90      0.90      4119\n",
      "   macro avg       0.79      0.58      0.60      4119\n",
      "weighted avg       0.88      0.90      0.87      4119\n",
      "\n",
      "Accuracy   : 89.70623937848993\n",
      "Train Score:  0.89694893307076\n",
      "CV Score   :  [0.89528203 0.88734218 0.88734218]\n",
      "Test Score :  0.8970623937848993\n"
     ]
    }
   ],
   "source": [
    "X_train, X_test, y_train, y_test = train_test_split(np.hstack((rp_X,rp_km_clusters)), y, test_size=0.10) \n",
    "\n",
    "clf =  MLPClassifier(hidden_layer_sizes=(15, 2), max_iter=10000)\n",
    "clf.fit(X_train, y_train)\n",
    "y_pred = clf.predict(X_test)\n",
    "\n",
    "print(\"Confusion Matrix:\")\n",
    "print(confusion_matrix(y_test, y_pred))\n",
    "print(classification_report(y_test, y_pred))\n",
    "\n",
    "print(\"Accuracy   :\", accuracy_score(y_test, y_pred) * 100)\n",
    "print(\"Train Score: \", clf.score(X_train, y_train))\n",
    "print(\"CV Score   : \", cross_val_score(clf, X_train, y_train, cv=3))\n",
    "print(\"Test Score : \", clf.score(X_test, y_test))"
   ]
  },
  {
   "cell_type": "markdown",
   "metadata": {},
   "source": [
    "## Training NN with RP Data + EM results on RP"
   ]
  },
  {
   "cell_type": "code",
   "execution_count": 42,
   "metadata": {
    "scrolled": true
   },
   "outputs": [
    {
     "name": "stdout",
     "output_type": "stream",
     "text": [
      "Confusion Matrix:\n",
      "[[3585   46]\n",
      " [ 395   93]]\n",
      "              precision    recall  f1-score   support\n",
      "\n",
      "         0.0       0.90      0.99      0.94      3631\n",
      "         1.0       0.67      0.19      0.30       488\n",
      "\n",
      "   micro avg       0.89      0.89      0.89      4119\n",
      "   macro avg       0.78      0.59      0.62      4119\n",
      "weighted avg       0.87      0.89      0.87      4119\n",
      "\n",
      "Accuracy   : 89.29351784413693\n",
      "Train Score:  0.898675443092611\n",
      "CV Score   :  [0.88799871 0.89381677 0.8943833 ]\n",
      "Test Score :  0.8929351784413693\n"
     ]
    }
   ],
   "source": [
    "X_train, X_test, y_train, y_test = train_test_split(np.hstack((rp_X,rp_em_clusters)), y, test_size=0.10) \n",
    "\n",
    "clf =  MLPClassifier(hidden_layer_sizes=(15, 2), max_iter=10000)\n",
    "clf.fit(X_train, y_train)\n",
    "y_pred = clf.predict(X_test)\n",
    "\n",
    "print(\"Confusion Matrix:\")\n",
    "print(confusion_matrix(y_test, y_pred))\n",
    "print(classification_report(y_test, y_pred))\n",
    "\n",
    "print(\"Accuracy   :\", accuracy_score(y_test, y_pred) * 100)\n",
    "print(\"Train Score: \", clf.score(X_train, y_train))\n",
    "print(\"CV Score   : \", cross_val_score(clf, X_train, y_train, cv=3))\n",
    "print(\"Test Score : \", clf.score(X_test, y_test))"
   ]
  },
  {
   "cell_type": "markdown",
   "metadata": {},
   "source": [
    "## Training NN with KMeans results on RF"
   ]
  },
  {
   "cell_type": "code",
   "execution_count": 43,
   "metadata": {},
   "outputs": [
    {
     "name": "stdout",
     "output_type": "stream",
     "text": [
      "Confusion Matrix:\n",
      "[[3652    0]\n",
      " [ 467    0]]\n",
      "              precision    recall  f1-score   support\n",
      "\n",
      "         0.0       0.89      1.00      0.94      3652\n",
      "         1.0       0.00      0.00      0.00       467\n",
      "\n",
      "   micro avg       0.89      0.89      0.89      4119\n",
      "   macro avg       0.44      0.50      0.47      4119\n",
      "weighted avg       0.79      0.89      0.83      4119\n",
      "\n",
      "Accuracy   : 88.66229667395\n",
      "Train Score:  0.8874261512314873\n"
     ]
    },
    {
     "name": "stderr",
     "output_type": "stream",
     "text": [
      "C:\\Users\\Benny\\Miniconda3\\lib\\site-packages\\sklearn\\metrics\\classification.py:1143: UndefinedMetricWarning: Precision and F-score are ill-defined and being set to 0.0 in labels with no predicted samples.\n",
      "  'precision', 'predicted', average, warn_for)\n"
     ]
    },
    {
     "name": "stdout",
     "output_type": "stream",
     "text": [
      "CV Score   :  [0.88743222 0.88742311 0.88742311]\n",
      "Test Score :  0.8866229667394999\n"
     ]
    }
   ],
   "source": [
    "km = KMeans(n_clusters = 4, random_state=seed)\n",
    "em = GMM(n_components = 4, random_state=seed)\n",
    "\n",
    "rf_km_clusters = km.fit_predict(rf_X).reshape(-1,1)\n",
    "rf_em_clusters = em.fit_predict(rf_X).reshape(-1,1)\n",
    "\n",
    "X_train, X_test, y_train, y_test = train_test_split(rf_km_clusters, y, test_size=0.10) \n",
    "\n",
    "clf =  MLPClassifier(hidden_layer_sizes=(15, 2), max_iter=10000)\n",
    "clf.fit(X_train, y_train)\n",
    "y_pred = clf.predict(X_test)\n",
    "\n",
    "print(\"Confusion Matrix:\")\n",
    "print(confusion_matrix(y_test, y_pred))\n",
    "print(classification_report(y_test, y_pred))\n",
    "\n",
    "print(\"Accuracy   :\", accuracy_score(y_test, y_pred) * 100)\n",
    "print(\"Train Score: \", clf.score(X_train, y_train))\n",
    "print(\"CV Score   : \", cross_val_score(clf, X_train, y_train, cv=3))\n",
    "print(\"Test Score : \", clf.score(X_test, y_test))"
   ]
  },
  {
   "cell_type": "markdown",
   "metadata": {},
   "source": [
    "## Training NN with EM results on RF"
   ]
  },
  {
   "cell_type": "code",
   "execution_count": 44,
   "metadata": {},
   "outputs": [
    {
     "name": "stdout",
     "output_type": "stream",
     "text": [
      "Confusion Matrix:\n",
      "[[3660    0]\n",
      " [ 459    0]]\n",
      "              precision    recall  f1-score   support\n",
      "\n",
      "         0.0       0.89      1.00      0.94      3660\n",
      "         1.0       0.00      0.00      0.00       459\n",
      "\n",
      "   micro avg       0.89      0.89      0.89      4119\n",
      "   macro avg       0.44      0.50      0.47      4119\n",
      "weighted avg       0.79      0.89      0.84      4119\n",
      "\n",
      "Accuracy   : 88.85651857246904\n",
      "Train Score:  0.8872103374787559\n"
     ]
    },
    {
     "name": "stderr",
     "output_type": "stream",
     "text": [
      "C:\\Users\\Benny\\Miniconda3\\lib\\site-packages\\sklearn\\metrics\\classification.py:1143: UndefinedMetricWarning: Precision and F-score are ill-defined and being set to 0.0 in labels with no predicted samples.\n",
      "  'precision', 'predicted', average, warn_for)\n"
     ]
    },
    {
     "name": "stdout",
     "output_type": "stream",
     "text": [
      "CV Score   :  [0.88718945 0.88718945 0.88725212]\n",
      "Test Score :  0.8885651857246905\n"
     ]
    }
   ],
   "source": [
    "X_train, X_test, y_train, y_test = train_test_split(rf_em_clusters, y, test_size=0.10) \n",
    "\n",
    "clf =  MLPClassifier(hidden_layer_sizes=(15, 2), max_iter=10000)\n",
    "clf.fit(X_train, y_train)\n",
    "y_pred = clf.predict(X_test)\n",
    "\n",
    "print(\"Confusion Matrix:\")\n",
    "print(confusion_matrix(y_test, y_pred))\n",
    "print(classification_report(y_test, y_pred))\n",
    "\n",
    "print(\"Accuracy   :\", accuracy_score(y_test, y_pred) * 100)\n",
    "print(\"Train Score: \", clf.score(X_train, y_train))\n",
    "print(\"CV Score   : \", cross_val_score(clf, X_train, y_train, cv=3))\n",
    "print(\"Test Score : \", clf.score(X_test, y_test))"
   ]
  },
  {
   "cell_type": "markdown",
   "metadata": {},
   "source": [
    "## Training NN with RF Data + KMeans results on RF"
   ]
  },
  {
   "cell_type": "code",
   "execution_count": 45,
   "metadata": {},
   "outputs": [
    {
     "name": "stdout",
     "output_type": "stream",
     "text": [
      "Confusion Matrix:\n",
      "[[3660    0]\n",
      " [ 459    0]]\n",
      "              precision    recall  f1-score   support\n",
      "\n",
      "         0.0       0.89      1.00      0.94      3660\n",
      "         1.0       0.00      0.00      0.00       459\n",
      "\n",
      "   micro avg       0.89      0.89      0.89      4119\n",
      "   macro avg       0.44      0.50      0.47      4119\n",
      "weighted avg       0.79      0.89      0.84      4119\n",
      "\n",
      "Accuracy   : 88.85651857246904\n",
      "Train Score:  0.887156384040573\n"
     ]
    },
    {
     "name": "stderr",
     "output_type": "stream",
     "text": [
      "C:\\Users\\Benny\\Miniconda3\\lib\\site-packages\\sklearn\\metrics\\classification.py:1143: UndefinedMetricWarning: Precision and F-score are ill-defined and being set to 0.0 in labels with no predicted samples.\n",
      "  'precision', 'predicted', average, warn_for)\n"
     ]
    },
    {
     "name": "stdout",
     "output_type": "stream",
     "text": [
      "CV Score   :  [0.88718945 0.88718945 0.88725212]\n",
      "Test Score :  0.8885651857246905\n"
     ]
    }
   ],
   "source": [
    "X_train, X_test, y_train, y_test = train_test_split(np.hstack((rf_X,rf_km_clusters)), y, test_size=0.10) \n",
    "\n",
    "clf =  MLPClassifier(hidden_layer_sizes=(15, 2), max_iter=10000)\n",
    "clf.fit(X_train, y_train)\n",
    "y_pred = clf.predict(X_test)\n",
    "\n",
    "print(\"Confusion Matrix:\")\n",
    "print(confusion_matrix(y_test, y_pred))\n",
    "print(classification_report(y_test, y_pred))\n",
    "\n",
    "print(\"Accuracy   :\", accuracy_score(y_test, y_pred) * 100)\n",
    "print(\"Train Score: \", clf.score(X_train, y_train))\n",
    "print(\"CV Score   : \", cross_val_score(clf, X_train, y_train, cv=3))\n",
    "print(\"Test Score : \", clf.score(X_test, y_test))"
   ]
  },
  {
   "cell_type": "markdown",
   "metadata": {},
   "source": [
    "## Training NN with RF Data + EM results on RF"
   ]
  },
  {
   "cell_type": "code",
   "execution_count": 46,
   "metadata": {},
   "outputs": [
    {
     "name": "stdout",
     "output_type": "stream",
     "text": [
      "Confusion Matrix:\n",
      "[[3628    0]\n",
      " [ 491    0]]\n",
      "              precision    recall  f1-score   support\n",
      "\n",
      "         0.0       0.88      1.00      0.94      3628\n",
      "         1.0       0.00      0.00      0.00       491\n",
      "\n",
      "   micro avg       0.88      0.88      0.88      4119\n",
      "   macro avg       0.44      0.50      0.47      4119\n",
      "weighted avg       0.78      0.88      0.82      4119\n",
      "\n",
      "Accuracy   : 88.07963097839281\n",
      "Train Score:  0.8880735924896814\n"
     ]
    },
    {
     "name": "stderr",
     "output_type": "stream",
     "text": [
      "C:\\Users\\Benny\\Miniconda3\\lib\\site-packages\\sklearn\\metrics\\classification.py:1143: UndefinedMetricWarning: Precision and F-score are ill-defined and being set to 0.0 in labels with no predicted samples.\n",
      "  'precision', 'predicted', average, warn_for)\n"
     ]
    },
    {
     "name": "stdout",
     "output_type": "stream",
     "text": [
      "CV Score   :  [0.88807963 0.88807057 0.88807057]\n",
      "Test Score :  0.8807963097839281\n"
     ]
    }
   ],
   "source": [
    "X_train, X_test, y_train, y_test = train_test_split(np.hstack((rf_X,rf_em_clusters)), y, test_size=0.10) \n",
    "\n",
    "clf =  MLPClassifier(hidden_layer_sizes=(15, 2), max_iter=10000)\n",
    "clf.fit(X_train, y_train)\n",
    "y_pred = clf.predict(X_test)\n",
    "\n",
    "print(\"Confusion Matrix:\")\n",
    "print(confusion_matrix(y_test, y_pred))\n",
    "print(classification_report(y_test, y_pred))\n",
    "\n",
    "print(\"Accuracy   :\", accuracy_score(y_test, y_pred) * 100)\n",
    "print(\"Train Score: \", clf.score(X_train, y_train))\n",
    "print(\"CV Score   : \", cross_val_score(clf, X_train, y_train, cv=3))\n",
    "print(\"Test Score : \", clf.score(X_test, y_test))"
   ]
  },
  {
   "cell_type": "code",
   "execution_count": 232,
   "metadata": {},
   "outputs": [],
   "source": [
    "def plot_learning_curves(clf, all_X, y, title, X_titles, train_sizes=np.linspace(.1, 1.0, 10), cv=None, ylim=None, show=False):\n",
    "    plt.figure()\n",
    "    plt.title(title)\n",
    "    if ylim is not None:\n",
    "        plt.ylim(*ylim)\n",
    "    plt.xlabel(\"Training examples\")\n",
    "    plt.ylabel(\"Score\")\n",
    "    train_scores = []\n",
    "    test_scores = []\n",
    "    for X in all_X:\n",
    "        train_sizes, train_score, test_score = learning_curve(clf, X, y, cv=cv, train_sizes=train_sizes)\n",
    "        train_scores.append(train_score)\n",
    "        test_scores.append(test_score)\n",
    "        \n",
    "    plt.grid()\n",
    "    for i in range(len(X_titles)):\n",
    "        test_score_mean = np.mean(test_scores[i], axis=1)\n",
    "        plt.plot(train_sizes, test_score_mean, 'o-', label=\"CV Score: \" + str(X_titles[i]))\n",
    "\n",
    "    plt.legend(loc=\"best\")\n",
    "    plt.savefig('plots/NN/learningcurves.png')\n",
    "    if show: plt.show()\n",
    "    plt.close()\n",
    "    return"
   ]
  },
  {
   "cell_type": "code",
   "execution_count": 309,
   "metadata": {},
   "outputs": [
    {
     "data": {
      "image/png": "[encoded data removed]",
      "text/plain": [
       "<Figure size 432x288 with 1 Axes>"
      ]
     },
     "metadata": {
      "needs_background": "light"
     },
     "output_type": "display_data"
    }
   ],
   "source": [
    "all_X = [X, pca_X, ica_X, rp_X, rf_X]\n",
    "X_titles = ['Full', 'PCA', 'ICA', 'RP', 'RF']\n",
    "clf = MLPClassifier(hidden_layer_sizes=(15, 2), max_iter=10000)\n",
    "plot_learning_curves(clf, all_X, y, 'Reduced Datasets Learning Curves (10-fold)', X_titles, ylim=(0.5,1.0), cv=10, show=True)"
   ]
  },
  {
   "cell_type": "code",
   "execution_count": 312,
   "metadata": {},
   "outputs": [
    {
     "data": {
      "image/png": "[encoded data removed]",
      "text/plain": [
       "<Figure size 432x288 with 1 Axes>"
      ]
     },
     "metadata": {
      "needs_background": "light"
     },
     "output_type": "display_data"
    }
   ],
   "source": [
    "all_X_clusters = [X, pca_km_clusters, ica_km_clusters, rp_km_clusters, rf_km_clusters]\n",
    "X_titles = ['Full', 'PCA', 'ICA', 'RP', 'RF']\n",
    "clf = MLPClassifier(hidden_layer_sizes=(15, 2), max_iter=10000)\n",
    "plot_learning_curves(clf, all_X, y, 'Learning Curves with KMeans Cluster Features', X_titles, ylim=(0.5,1.0), cv=5, show=True)"
   ]
  },
  {
   "cell_type": "code",
   "execution_count": 311,
   "metadata": {},
   "outputs": [
    {
     "data": {
      "image/png": "[encoded data removed]",
      "text/plain": [
       "<Figure size 432x288 with 1 Axes>"
      ]
     },
     "metadata": {
      "needs_background": "light"
     },
     "output_type": "display_data"
    }
   ],
   "source": [
    "all_X_clusters = [X, pca_em_clusters, ica_em_clusters, rp_em_clusters, rf_em_clusters]\n",
    "X_titles = ['Full', 'PCA', 'ICA', 'RP', 'RF']\n",
    "clf = MLPClassifier(hidden_layer_sizes=(15, 2), max_iter=10000)\n",
    "plot_learning_curves(clf, all_X, y, 'Learning Curves with EM Cluster Features', X_titles, ylim=(0.5,1.0), cv=5, show=True)"
   ]
  },
  {
   "cell_type": "code",
   "execution_count": 49,
   "metadata": {},
   "outputs": [
    {
     "name": "stdout",
     "output_type": "stream",
     "text": [
      "Wall time: 1.68 s\n",
      "Wall time: 3.24 s\n",
      "Wall time: 1.84 s\n",
      "Wall time: 3.29 s\n",
      "Wall time: 3 s\n",
      "Wall time: 2.03 s\n",
      "Wall time: 876 ms\n",
      "Wall time: 1.06 s\n"
     ]
    },
    {
     "data": {
      "text/plain": [
       "MLPClassifier(activation='relu', alpha=0.0001, batch_size='auto', beta_1=0.9,\n",
       "       beta_2=0.999, early_stopping=False, epsilon=1e-08,\n",
       "       hidden_layer_sizes=(15, 2), learning_rate='constant',\n",
       "       learning_rate_init=0.001, max_iter=10000, momentum=0.9,\n",
       "       n_iter_no_change=10, nesterovs_momentum=True, power_t=0.5,\n",
       "       random_state=None, shuffle=True, solver='adam', tol=0.0001,\n",
       "       validation_fraction=0.1, verbose=False, warm_start=False)"
      ]
     },
     "execution_count": 49,
     "metadata": {},
     "output_type": "execute_result"
    }
   ],
   "source": [
    "#PCA\n",
    "X_train, X_test, y_train, y_test = train_test_split(pca_km_clusters, y, test_size=0.10) \n",
    "\n",
    "clf =  MLPClassifier(hidden_layer_sizes=(15, 2), max_iter=10000)\n",
    "%time clf.fit(X_train, y_train)\n",
    "\n",
    "X_train, X_test, y_train, y_test = train_test_split(pca_em_clusters, y, test_size=0.10) \\\n",
    "\n",
    "clf =  MLPClassifier(hidden_layer_sizes=(15, 2), max_iter=10000)\n",
    "%time clf.fit(X_train, y_train)\n",
    "\n",
    "# ICA\n",
    "X_train, X_test, y_train, y_test = train_test_split(ica_km_clusters, y, test_size=0.10) \n",
    "\n",
    "clf =  MLPClassifier(hidden_layer_sizes=(15, 2), max_iter=10000)\n",
    "%time clf.fit(X_train, y_train)\n",
    "\n",
    "X_train, X_test, y_train, y_test = train_test_split(ica_em_clusters, y, test_size=0.10) \n",
    "\n",
    "clf =  MLPClassifier(hidden_layer_sizes=(15, 2), max_iter=10000)\n",
    "%time clf.fit(X_train, y_train)\n",
    "\n",
    "#RP\n",
    "X_train, X_test, y_train, y_test = train_test_split(rp_km_clusters, y, test_size=0.10) \n",
    "\n",
    "clf =  MLPClassifier(hidden_layer_sizes=(15, 2), max_iter=10000)\n",
    "%time clf.fit(X_train, y_train)\n",
    "\n",
    "X_train, X_test, y_train, y_test = train_test_split(rp_em_clusters, y, test_size=0.10) \n",
    "\n",
    "clf =  MLPClassifier(hidden_layer_sizes=(15, 2), max_iter=10000)\n",
    "%time clf.fit(X_train, y_train)\n",
    "\n",
    "#RF\n",
    "X_train, X_test, y_train, y_test = train_test_split(rf_km_clusters, y, test_size=0.10) \n",
    "\n",
    "clf =  MLPClassifier(hidden_layer_sizes=(15, 2), max_iter=10000)\n",
    "%time clf.fit(X_train, y_train)\n",
    "\n",
    "X_train, X_test, y_train, y_test = train_test_split(rf_em_clusters, y, test_size=0.10) \n",
    "\n",
    "clf =  MLPClassifier(hidden_layer_sizes=(15, 2), max_iter=10000)\n",
    "%time clf.fit(X_train, y_train)\n"
   ]
  },
  {
   "cell_type": "code",
   "execution_count": null,
   "metadata": {},
   "outputs": [],
   "source": []
  }
 ],
 "metadata": {
  "kernelspec": {
   "display_name": "Python 3",
   "language": "python",
   "name": "python3"
  },
  "language_info": {
   "codemirror_mode": {
    "name": "ipython",
    "version": 3
   },
   "file_extension": ".py",
   "mimetype": "text/x-python",
   "name": "python",
   "nbconvert_exporter": "python",
   "pygments_lexer": "ipython3",
   "version": "3.6.5"
  }
 },
 "nbformat": 4,
 "nbformat_minor": 2
}
